{
 "cells": [
  {
   "cell_type": "markdown",
   "id": "3189fddf",
   "metadata": {},
   "source": [
    "# Modeling"
   ]
  },
  {
   "cell_type": "markdown",
   "id": "6cd6806a",
   "metadata": {},
   "source": [
    "Now that I've finished all the previous steps I will now use diffrent machine learning models to make predictions of my data with my problem statement in mind.\n",
    "\n",
    "My problem statement was: 'In the next 8 months, this project will utilize a 2019 dataset to quantitatively analyze gender-based mental health disparities globally, focusing on eating disorders and bipolar disorder. By applying statistical methods, the project aims to provide measurable insights into prevalence rates, regional variations, and access to mental health care resources, with the ultimate goal of proposing actionable strategies for improvement.'\n",
    "\n",
    "After trying many different models I decided that logistic regression, and Support Vector machines(SVM) would be best. A lot of the other models I tried were cooperating with my tables the way I needed them to."
   ]
  },
  {
   "cell_type": "markdown",
   "id": "94b6e12a",
   "metadata": {},
   "source": [
    "For starters I will be uploading all the libraries and csv files needed to complete the notebook."
   ]
  },
  {
   "cell_type": "code",
   "execution_count": 2,
   "id": "42263af7",
   "metadata": {},
   "outputs": [],
   "source": [
    "import pandas as pd\n",
    "import numpy as np\n",
    "import seaborn as sns\n",
    "import matplotlib.pyplot as plt\n",
    "from sklearn.model_selection import train_test_split\n",
    "from sklearn.preprocessing import StandardScaler\n",
    "from sklearn.pipeline import Pipeline\n",
    "from sklearn.linear_model import LogisticRegression\n",
    "from sklearn.ensemble import RandomForestClassifier\n",
    "from sklearn.metrics import accuracy_score, classification_report, confusion_matrix"
   ]
  },
  {
   "cell_type": "code",
   "execution_count": 50,
   "id": "3f00392c",
   "metadata": {},
   "outputs": [],
   "source": [
    "df2_bip = pd.read_csv('cleaned_data(2).csv')\n",
    "df4_eat = pd.read_csv('cleaned_data(4).csv')"
   ]
  },
  {
   "cell_type": "markdown",
   "id": "c18e02e5",
   "metadata": {},
   "source": [
    "I will also be using 2 different tables so I will be repeating the process twice. I just wont write about how to get there again since it will be the same just with a different table."
   ]
  },
  {
   "cell_type": "markdown",
   "id": "5e8c4449",
   "metadata": {},
   "source": [
    "I'll first quickly train the data."
   ]
  },
  {
   "cell_type": "code",
   "execution_count": 4,
   "id": "76c2b65f",
   "metadata": {},
   "outputs": [],
   "source": [
    "X = df2_bip.drop(['Percentage of Prevalence (Bipolar Disorders(M))',\n",
    "              'Percentage of Prevalence (Bipolar Disorders(F))'], axis=1)\n",
    "y = df2_bip[['Percentage of Prevalence (Bipolar Disorders(M))',\n",
    "          'Percentage of Prevalence (Bipolar Disorders(F))']]\n",
    "\n",
    "X_train, X_test, y_train, y_test = train_test_split(X, y, test_size=0.2, random_state=42)\n"
   ]
  },
  {
   "cell_type": "code",
   "execution_count": 5,
   "id": "2019420d",
   "metadata": {},
   "outputs": [
    {
     "name": "stdout",
     "output_type": "stream",
     "text": [
      "(45115, 5)\n",
      "(11279, 5)\n",
      "45115\n",
      "11279\n"
     ]
    }
   ],
   "source": [
    "print(X_train.shape)\n",
    "print(X_test.shape)\n",
    "print(len(y_train))\n",
    "print(len(y_test))"
   ]
  },
  {
   "cell_type": "code",
   "execution_count": 17,
   "id": "85862f1d",
   "metadata": {},
   "outputs": [
    {
     "data": {
      "text/html": [
       "<div>\n",
       "<style scoped>\n",
       "    .dataframe tbody tr th:only-of-type {\n",
       "        vertical-align: middle;\n",
       "    }\n",
       "\n",
       "    .dataframe tbody tr th {\n",
       "        vertical-align: top;\n",
       "    }\n",
       "\n",
       "    .dataframe thead th {\n",
       "        text-align: right;\n",
       "    }\n",
       "</style>\n",
       "<table border=\"1\" class=\"dataframe\">\n",
       "  <thead>\n",
       "    <tr style=\"text-align: right;\">\n",
       "      <th></th>\n",
       "      <th>index</th>\n",
       "      <th>Country</th>\n",
       "      <th>Code</th>\n",
       "      <th>Year</th>\n",
       "      <th>Percentage of Prevalence (Bipolar Disorders(M))</th>\n",
       "      <th>Percentage of Prevalence (Bipolar Disorders(F))</th>\n",
       "      <th>Population (historical estimates)</th>\n",
       "    </tr>\n",
       "  </thead>\n",
       "  <tbody>\n",
       "    <tr>\n",
       "      <th>0</th>\n",
       "      <td>1</td>\n",
       "      <td>Afghanistan</td>\n",
       "      <td>AFG</td>\n",
       "      <td>1990</td>\n",
       "      <td>0.675452</td>\n",
       "      <td>0.762342</td>\n",
       "      <td>12412311.0</td>\n",
       "    </tr>\n",
       "    <tr>\n",
       "      <th>1</th>\n",
       "      <td>2</td>\n",
       "      <td>Afghanistan</td>\n",
       "      <td>AFG</td>\n",
       "      <td>1991</td>\n",
       "      <td>0.674992</td>\n",
       "      <td>0.762142</td>\n",
       "      <td>13299016.0</td>\n",
       "    </tr>\n",
       "    <tr>\n",
       "      <th>2</th>\n",
       "      <td>3</td>\n",
       "      <td>Afghanistan</td>\n",
       "      <td>AFG</td>\n",
       "      <td>1992</td>\n",
       "      <td>0.674579</td>\n",
       "      <td>0.761958</td>\n",
       "      <td>14485543.0</td>\n",
       "    </tr>\n",
       "    <tr>\n",
       "      <th>3</th>\n",
       "      <td>4</td>\n",
       "      <td>Afghanistan</td>\n",
       "      <td>AFG</td>\n",
       "      <td>1993</td>\n",
       "      <td>0.674206</td>\n",
       "      <td>0.761774</td>\n",
       "      <td>15816601.0</td>\n",
       "    </tr>\n",
       "    <tr>\n",
       "      <th>4</th>\n",
       "      <td>5</td>\n",
       "      <td>Afghanistan</td>\n",
       "      <td>AFG</td>\n",
       "      <td>1994</td>\n",
       "      <td>0.673876</td>\n",
       "      <td>0.761599</td>\n",
       "      <td>17075728.0</td>\n",
       "    </tr>\n",
       "  </tbody>\n",
       "</table>\n",
       "</div>"
      ],
      "text/plain": [
       "   index      Country Code  Year  \\\n",
       "0      1  Afghanistan  AFG  1990   \n",
       "1      2  Afghanistan  AFG  1991   \n",
       "2      3  Afghanistan  AFG  1992   \n",
       "3      4  Afghanistan  AFG  1993   \n",
       "4      5  Afghanistan  AFG  1994   \n",
       "\n",
       "   Percentage of Prevalence (Bipolar Disorders(M))  \\\n",
       "0                                         0.675452   \n",
       "1                                         0.674992   \n",
       "2                                         0.674579   \n",
       "3                                         0.674206   \n",
       "4                                         0.673876   \n",
       "\n",
       "   Percentage of Prevalence (Bipolar Disorders(F))  \\\n",
       "0                                         0.762342   \n",
       "1                                         0.762142   \n",
       "2                                         0.761958   \n",
       "3                                         0.761774   \n",
       "4                                         0.761599   \n",
       "\n",
       "   Population (historical estimates)  \n",
       "0                         12412311.0  \n",
       "1                         13299016.0  \n",
       "2                         14485543.0  \n",
       "3                         15816601.0  \n",
       "4                         17075728.0  "
      ]
     },
     "execution_count": 17,
     "metadata": {},
     "output_type": "execute_result"
    }
   ],
   "source": [
    "df2_bip.head()"
   ]
  },
  {
   "cell_type": "markdown",
   "id": "ccc4a1ce",
   "metadata": {},
   "source": [
    "Now I'll start."
   ]
  },
  {
   "cell_type": "markdown",
   "id": "24d2b203",
   "metadata": {},
   "source": [
    "# Logistic Regression"
   ]
  },
  {
   "cell_type": "markdown",
   "id": "cc8e93ba",
   "metadata": {},
   "source": [
    "Logistic regression can help predict the likelihood of individuals having eating disorders or bipolar disorder based on various factors, though we will be mostly be looking at genders.It allows you to quantify the relationship between predictor variables, and the probability of having a mental health disorder."
   ]
  },
  {
   "cell_type": "markdown",
   "id": "3cd3652e",
   "metadata": {},
   "source": [
    "For this to work I figured since the country, code or year does nothing for my problem statement, I dropped all columns. When I tried with those columns, no matter what I tried, some sort of error would happen."
   ]
  },
  {
   "cell_type": "code",
   "execution_count": 27,
   "id": "e5749a73",
   "metadata": {},
   "outputs": [
    {
     "name": "stdout",
     "output_type": "stream",
     "text": [
      "Training accuracy: 0.9993350326942259\n",
      "Testing accuracy: 0.9991133965777108\n"
     ]
    }
   ],
   "source": [
    "columns_to_drop = ['Country', 'Code', 'Year']\n",
    "df2_bip = df2_bip.drop(columns=columns_to_drop)\n",
    "\n",
    "# Handle missing values\n",
    "df2_bip = df2_bip.fillna(df2_bip.mean())\n",
    "\n",
    "# Define the features (X) and target variable (y)\n",
    "X = df2_bip.drop(columns=['Percentage of Prevalence (Bipolar Disorders(M))'])\n",
    "y = df2_bip['Percentage of Prevalence (Bipolar Disorders(M))']\n",
    "\n",
    "# Define the threshold for binarizing the target variable\n",
    "threshold = 0.5\n",
    "\n",
    "# Binarize the target variable based on the threshold\n",
    "y_bin = np.where(y < threshold, 'low prevalence', 'high prevalence')\n",
    "\n",
    "# Split the dataset into training and testing sets\n",
    "X_train, X_test, y_train, y_test = train_test_split(X, y_bin, test_size=0.2, random_state=42)\n",
    "\n",
    "# Standardize the features\n",
    "scaler = StandardScaler()\n",
    "X_train_scaled = scaler.fit_transform(X_train)\n",
    "X_test_scaled = scaler.transform(X_test)\n",
    "\n",
    "# Initialize and fit the logistic regression model\n",
    "logistic_model = LogisticRegression()\n",
    "logistic_model.fit(X_train_scaled, y_train)\n",
    "\n",
    "# Evaluate the model\n",
    "train_score = logistic_model.score(X_train_scaled, y_train)\n",
    "test_score = logistic_model.score(X_test_scaled, y_test)\n",
    "\n",
    "print(f\"Training accuracy: {train_score}\")\n",
    "print(f\"Testing accuracy: {test_score}\")"
   ]
  },
  {
   "cell_type": "markdown",
   "id": "77a799df",
   "metadata": {},
   "source": [
    "Once I got my results, I used the confusion matrix to visualize the findings."
   ]
  },
  {
   "cell_type": "code",
   "execution_count": 28,
   "id": "4cf0b23f",
   "metadata": {},
   "outputs": [
    {
     "data": {
      "image/png": "[encoded data removed]",
      "text/plain": [
       "<Figure size 800x600 with 2 Axes>"
      ]
     },
     "metadata": {},
     "output_type": "display_data"
    },
    {
     "name": "stdout",
     "output_type": "stream",
     "text": [
      "                 precision    recall  f1-score   support\n",
      "\n",
      "high prevalence       1.00      1.00      1.00     10984\n",
      " low prevalence       1.00      0.97      0.98       295\n",
      "\n",
      "       accuracy                           1.00     11279\n",
      "      macro avg       1.00      0.98      0.99     11279\n",
      "   weighted avg       1.00      1.00      1.00     11279\n",
      "\n"
     ]
    }
   ],
   "source": [
    "# Predict on the test set\n",
    "y_pred = logistic_model.predict(X_test_scaled)\n",
    "\n",
    "# Create a confusion matrix\n",
    "cm = confusion_matrix(y_test, y_pred)\n",
    "\n",
    "# Plot confusion matrix\n",
    "plt.figure(figsize=(8, 6))\n",
    "sns.heatmap(cm, annot=True, fmt='d', cmap='Blues', xticklabels=['low prevalence', 'high prevalence'], yticklabels=['low prevalence', 'high prevalence'])\n",
    "plt.xlabel('Predicted')\n",
    "plt.ylabel('True')\n",
    "plt.title('Confusion Matrix')\n",
    "plt.show()\n",
    "\n",
    "# Classification report\n",
    "print(classification_report(y_test, y_pred))"
   ]
  },
  {
   "cell_type": "markdown",
   "id": "bd472066",
   "metadata": {},
   "source": [
    "Using these results we can infer that Bipolar disorder in males is lower usually on the lower spectrum compared to females. Seeing this and using the information previously gathered we know that on a, global spectrum it is higher found in women. However there are still a good amount in the high prevalence box."
   ]
  },
  {
   "cell_type": "markdown",
   "id": "260eba2d",
   "metadata": {},
   "source": [
    "# Support Vector Machines (SVM)"
   ]
  },
  {
   "cell_type": "markdown",
   "id": "94de6bbd",
   "metadata": {},
   "source": [
    "SVM can effectively classify individuals into different categories based on their likelihood of having a mental health disorder.\n",
    "It can handle nonlinear relationships between predictors and the target variable, allowing for more accurate discrimination between gender groups and identifying disparities.\n"
   ]
  },
  {
   "cell_type": "code",
   "execution_count": 23,
   "id": "442001bf",
   "metadata": {},
   "outputs": [
    {
     "name": "stderr",
     "output_type": "stream",
     "text": [
      "C:\\Users\\munae\\AppData\\Local\\Temp\\ipykernel_198152\\2163233163.py:12: SettingWithCopyWarning: \n",
      "A value is trying to be set on a copy of a slice from a DataFrame\n",
      "\n",
      "See the caveats in the documentation: https://pandas.pydata.org/pandas-docs/stable/user_guide/indexing.html#returning-a-view-versus-a-copy\n",
      "  df_numeric.dropna(inplace=True)\n",
      "C:\\Users\\munae\\AppData\\Local\\Temp\\ipykernel_198152\\2163233163.py:19: SettingWithCopyWarning: \n",
      "A value is trying to be set on a copy of a slice from a DataFrame.\n",
      "Try using .loc[row_indexer,col_indexer] = value instead\n",
      "\n",
      "See the caveats in the documentation: https://pandas.pydata.org/pandas-docs/stable/user_guide/indexing.html#returning-a-view-versus-a-copy\n",
      "  df_numeric['Prevalence Class'] = pd.cut(df_numeric['Percentage of Prevalence (Bipolar Disorders(M))'],\n"
     ]
    },
    {
     "name": "stdout",
     "output_type": "stream",
     "text": [
      "Accuracy: 0.5089430894308943\n"
     ]
    }
   ],
   "source": [
    "from sklearn.svm import SVC\n",
    "\n",
    "# Dropping the 'index' column as it seems to be an identifier\n",
    "df2_bip.drop(columns=['index'], inplace=True)\n",
    "\n",
    "# Removing non-numeric columns\n",
    "numeric_cols = df2_bip.select_dtypes(include=['float64', 'int64']).columns\n",
    "df_numeric = df2_bip[numeric_cols]\n",
    "\n",
    "# Dropping rows with missing values\n",
    "df_numeric.dropna(inplace=True)\n",
    "\n",
    "# Defining thresholds for \"low\" and \"high\" prevalence\n",
    "low_threshold = df_numeric['Percentage of Prevalence (Bipolar Disorders(M))'].quantile(0.25)\n",
    "high_threshold = df_numeric['Percentage of Prevalence (Bipolar Disorders(M))'].quantile(0.75)\n",
    "\n",
    "# Creating target classes based on thresholds\n",
    "df_numeric['Prevalence Class'] = pd.cut(df_numeric['Percentage of Prevalence (Bipolar Disorders(M))'],\n",
    "                                        bins=[-float('inf'), low_threshold, high_threshold, float('inf')],\n",
    "                                        labels=['low', 'medium', 'high'])\n",
    "\n",
    "# Separating features (X) and target (y)\n",
    "X = df_numeric.drop(columns=['Percentage of Prevalence (Bipolar Disorders(M))', \n",
    "                              'Percentage of Prevalence (Bipolar Disorders(F))',\n",
    "                              'Prevalence Class'])\n",
    "y = df_numeric['Prevalence Class']\n",
    "\n",
    "# Splitting the data into training and testing sets\n",
    "X_train, X_test, y_train, y_test = train_test_split(X, y, test_size=0.2, random_state=42)\n",
    "\n",
    "# Standardizing features\n",
    "scaler = StandardScaler()\n",
    "X_train_scaled = scaler.fit_transform(X_train)\n",
    "X_test_scaled = scaler.transform(X_test)\n",
    "\n",
    "# Initializing and training the SVM model\n",
    "svm_model = SVC(kernel='linear', random_state=42)\n",
    "svm_model.fit(X_train_scaled, y_train)\n",
    "\n",
    "# Making predictions on the testing data\n",
    "y_pred = svm_model.predict(X_test_scaled)\n",
    "\n",
    "# Evaluating the model\n",
    "accuracy = accuracy_score(y_test, y_pred)\n",
    "print(\"Accuracy:\", accuracy)\n"
   ]
  },
  {
   "cell_type": "code",
   "execution_count": 24,
   "id": "bc6b3bbc",
   "metadata": {},
   "outputs": [
    {
     "data": {
      "image/png": "[encoded data removed]",
      "text/plain": [
       "<Figure size 640x480 with 2 Axes>"
      ]
     },
     "metadata": {},
     "output_type": "display_data"
    }
   ],
   "source": [
    "# Function to plot confusion matrix\n",
    "def plot_confusion_matrix(y_true, y_pred):\n",
    "    cm = confusion_matrix(y_true, y_pred)\n",
    "    sns.heatmap(cm, annot=True, cmap='Reds', fmt='g')\n",
    "    plt.xlabel('Predicted labels')\n",
    "    plt.ylabel('True labels')\n",
    "    plt.title('Confusion Matrix')\n",
    "    plt.show()\n",
    "\n",
    "plot_confusion_matrix(y_test, y_pred)\n"
   ]
  },
  {
   "cell_type": "markdown",
   "id": "25e8af94",
   "metadata": {},
   "source": [
    "This just seconds my first model. Men are less likely to have bipolar disorder."
   ]
  },
  {
   "cell_type": "markdown",
   "id": "d9e3494d",
   "metadata": {},
   "source": [
    "##### Second table"
   ]
  },
  {
   "cell_type": "code",
   "execution_count": 39,
   "id": "96a285c6",
   "metadata": {},
   "outputs": [],
   "source": [
    "X = df4_eat.drop(['Percentage of Prevalence (Eating disorders(M))',\n",
    "       'Percentage of Prevalence (Eating disorders(F))'], axis=1)\n",
    "y = df4_eat[['Percentage of Prevalence (Eating disorders(M))',\n",
    "       'Percentage of Prevalence (Eating disorders(F))']]\n",
    "\n",
    "X_train, X_test, y_train, y_test = train_test_split(X, y, test_size=0.2, random_state=42)\n"
   ]
  },
  {
   "cell_type": "code",
   "execution_count": 40,
   "id": "25054e6e",
   "metadata": {},
   "outputs": [
    {
     "name": "stdout",
     "output_type": "stream",
     "text": [
      "(45115, 1)\n",
      "(11279, 1)\n",
      "45115\n",
      "11279\n"
     ]
    }
   ],
   "source": [
    "print(X_train.shape)\n",
    "print(X_test.shape)\n",
    "print(len(y_train))\n",
    "print(len(y_test))"
   ]
  },
  {
   "cell_type": "markdown",
   "id": "131b0c4c",
   "metadata": {},
   "source": [
    "# Logistic Regression"
   ]
  },
  {
   "cell_type": "code",
   "execution_count": 41,
   "id": "102b6502",
   "metadata": {},
   "outputs": [
    {
     "data": {
      "text/html": [
       "<div>\n",
       "<style scoped>\n",
       "    .dataframe tbody tr th:only-of-type {\n",
       "        vertical-align: middle;\n",
       "    }\n",
       "\n",
       "    .dataframe tbody tr th {\n",
       "        vertical-align: top;\n",
       "    }\n",
       "\n",
       "    .dataframe thead th {\n",
       "        text-align: right;\n",
       "    }\n",
       "</style>\n",
       "<table border=\"1\" class=\"dataframe\">\n",
       "  <thead>\n",
       "    <tr style=\"text-align: right;\">\n",
       "      <th></th>\n",
       "      <th>Percentage of Prevalence (Eating disorders(M))</th>\n",
       "      <th>Percentage of Prevalence (Eating disorders(F))</th>\n",
       "      <th>Population (historical estimates)</th>\n",
       "    </tr>\n",
       "  </thead>\n",
       "  <tbody>\n",
       "    <tr>\n",
       "      <th>0</th>\n",
       "      <td>0.091421</td>\n",
       "      <td>0.164942</td>\n",
       "      <td>12412311.0</td>\n",
       "    </tr>\n",
       "    <tr>\n",
       "      <th>1</th>\n",
       "      <td>0.088841</td>\n",
       "      <td>0.159850</td>\n",
       "      <td>13299016.0</td>\n",
       "    </tr>\n",
       "    <tr>\n",
       "      <th>2</th>\n",
       "      <td>0.086286</td>\n",
       "      <td>0.155230</td>\n",
       "      <td>14485543.0</td>\n",
       "    </tr>\n",
       "    <tr>\n",
       "      <th>3</th>\n",
       "      <td>0.084179</td>\n",
       "      <td>0.150636</td>\n",
       "      <td>15816601.0</td>\n",
       "    </tr>\n",
       "    <tr>\n",
       "      <th>4</th>\n",
       "      <td>0.081881</td>\n",
       "      <td>0.146573</td>\n",
       "      <td>17075728.0</td>\n",
       "    </tr>\n",
       "  </tbody>\n",
       "</table>\n",
       "</div>"
      ],
      "text/plain": [
       "   Percentage of Prevalence (Eating disorders(M))  \\\n",
       "0                                        0.091421   \n",
       "1                                        0.088841   \n",
       "2                                        0.086286   \n",
       "3                                        0.084179   \n",
       "4                                        0.081881   \n",
       "\n",
       "   Percentage of Prevalence (Eating disorders(F))  \\\n",
       "0                                        0.164942   \n",
       "1                                        0.159850   \n",
       "2                                        0.155230   \n",
       "3                                        0.150636   \n",
       "4                                        0.146573   \n",
       "\n",
       "   Population (historical estimates)  \n",
       "0                         12412311.0  \n",
       "1                         13299016.0  \n",
       "2                         14485543.0  \n",
       "3                         15816601.0  \n",
       "4                         17075728.0  "
      ]
     },
     "execution_count": 41,
     "metadata": {},
     "output_type": "execute_result"
    }
   ],
   "source": [
    "df4_eat.head()"
   ]
  },
  {
   "cell_type": "code",
   "execution_count": 43,
   "id": "6df7e961",
   "metadata": {},
   "outputs": [
    {
     "name": "stdout",
     "output_type": "stream",
     "text": [
      "Training accuracy: 0.9996231851933947\n",
      "Testing accuracy: 0.9995566982888554\n"
     ]
    }
   ],
   "source": [
    "# Handle missing values\n",
    "df4_eat = df4_eat.fillna(df4_eat.mean())\n",
    "\n",
    "# Define the features (X) and target variable (y)\n",
    "X = df4_eat.drop(columns=['Percentage of Prevalence (Eating disorders(M))'])\n",
    "y = df4_eat['Percentage of Prevalence (Eating disorders(M))']\n",
    "\n",
    "# Define the threshold for binarizing the target variable\n",
    "threshold = 0.5\n",
    "\n",
    "# Binarize the target variable based on the threshold\n",
    "y_bin = np.where(y < threshold, 'low prevalence', 'high prevalence')\n",
    "\n",
    "# Split the dataset into training and testing sets\n",
    "X_train, X_test, y_train, y_test = train_test_split(X, y_bin, test_size=0.2, random_state=42)\n",
    "\n",
    "# Standardize the features\n",
    "scaler = StandardScaler()\n",
    "X_train_scaled = scaler.fit_transform(X_train)\n",
    "X_test_scaled = scaler.transform(X_test)\n",
    "\n",
    "# Initialize and fit the logistic regression model\n",
    "logistic_model = LogisticRegression()\n",
    "logistic_model.fit(X_train_scaled, y_train)\n",
    "\n",
    "# Evaluate the model\n",
    "train_score = logistic_model.score(X_train_scaled, y_train)\n",
    "test_score = logistic_model.score(X_test_scaled, y_test)\n",
    "\n",
    "print(f\"Training accuracy: {train_score}\")\n",
    "print(f\"Testing accuracy: {test_score}\")"
   ]
  },
  {
   "cell_type": "code",
   "execution_count": 44,
   "id": "d3f5194e",
   "metadata": {},
   "outputs": [
    {
     "data": {
      "image/png": "[encoded data removed]",
      "text/plain": [
       "<Figure size 800x600 with 2 Axes>"
      ]
     },
     "metadata": {},
     "output_type": "display_data"
    },
    {
     "name": "stdout",
     "output_type": "stream",
     "text": [
      "                 precision    recall  f1-score   support\n",
      "\n",
      "high prevalence       0.71      0.62      0.67         8\n",
      " low prevalence       1.00      1.00      1.00     11271\n",
      "\n",
      "       accuracy                           1.00     11279\n",
      "      macro avg       0.86      0.81      0.83     11279\n",
      "   weighted avg       1.00      1.00      1.00     11279\n",
      "\n"
     ]
    }
   ],
   "source": [
    "# Predict on the test set\n",
    "y_pred = logistic_model.predict(X_test_scaled)\n",
    "\n",
    "# Create a confusion matrix\n",
    "cm = confusion_matrix(y_test, y_pred)\n",
    "\n",
    "# Plot confusion matrix\n",
    "plt.figure(figsize=(8, 6))\n",
    "sns.heatmap(cm, annot=True, fmt='d', cmap='Blues', xticklabels=['low prevalence', 'high prevalence'], yticklabels=['low prevalence', 'high prevalence'])\n",
    "plt.xlabel('Predicted')\n",
    "plt.ylabel('True')\n",
    "plt.title('Confusion Matrix')\n",
    "plt.show()\n",
    "\n",
    "# Classification report\n",
    "print(classification_report(y_test, y_pred))"
   ]
  },
  {
   "cell_type": "markdown",
   "id": "14d8190f",
   "metadata": {},
   "source": [
    "# Support Vector Machines (SVM)"
   ]
  },
  {
   "cell_type": "code",
   "execution_count": 53,
   "id": "052cfe25",
   "metadata": {},
   "outputs": [
    {
     "name": "stderr",
     "output_type": "stream",
     "text": [
      "C:\\Users\\munae\\AppData\\Local\\Temp\\ipykernel_198152\\184198576.py:9: SettingWithCopyWarning: \n",
      "A value is trying to be set on a copy of a slice from a DataFrame\n",
      "\n",
      "See the caveats in the documentation: https://pandas.pydata.org/pandas-docs/stable/user_guide/indexing.html#returning-a-view-versus-a-copy\n",
      "  df_numeric.dropna(inplace=True)\n",
      "C:\\Users\\munae\\AppData\\Local\\Temp\\ipykernel_198152\\184198576.py:16: SettingWithCopyWarning: \n",
      "A value is trying to be set on a copy of a slice from a DataFrame.\n",
      "Try using .loc[row_indexer,col_indexer] = value instead\n",
      "\n",
      "See the caveats in the documentation: https://pandas.pydata.org/pandas-docs/stable/user_guide/indexing.html#returning-a-view-versus-a-copy\n",
      "  df_numeric['Prevalence Class'] = pd.cut(df_numeric['Percentage of Prevalence (Eating disorders(M))'],\n"
     ]
    },
    {
     "name": "stdout",
     "output_type": "stream",
     "text": [
      "Accuracy: 0.4772357723577236\n"
     ]
    }
   ],
   "source": [
    "# Dropping the 'index' column as it seems to be an identifier\n",
    "df4_eat.drop(columns=['index'], inplace=True)\n",
    "\n",
    "# Removing non-numeric columns\n",
    "numeric_cols = df4_eat.select_dtypes(include=['float64', 'int64']).columns\n",
    "df_numeric = df4_eat[numeric_cols]\n",
    "\n",
    "# Dropping rows with missing values\n",
    "df_numeric.dropna(inplace=True)\n",
    "\n",
    "# Defining thresholds for \"low\" and \"high\" prevalence\n",
    "low_threshold = df_numeric['Percentage of Prevalence (Eating disorders(M))'].quantile(0.25)\n",
    "high_threshold = df_numeric['Percentage of Prevalence (Eating disorders(M))'].quantile(0.75)\n",
    "\n",
    "# Creating target classes based on thresholds\n",
    "df_numeric['Prevalence Class'] = pd.cut(df_numeric['Percentage of Prevalence (Eating disorders(M))'],\n",
    "                                        bins=[-float('inf'), low_threshold, high_threshold, float('inf')],\n",
    "                                        labels=['low', 'medium', 'high'])\n",
    "\n",
    "# Separating features (X) and target (y)\n",
    "X = df_numeric.drop(columns=['Percentage of Prevalence (Eating disorders(M))',\n",
    "                              'Percentage of Prevalence (Eating disorders(F))',\n",
    "                              'Prevalence Class'])\n",
    "y = df_numeric['Prevalence Class']\n",
    "\n",
    "# Splitting the data into training and testing sets\n",
    "X_train, X_test, y_train, y_test = train_test_split(X, y, test_size=0.2, random_state=42)\n",
    "\n",
    "# Standardizing features\n",
    "scaler = StandardScaler()\n",
    "X_train_scaled = scaler.fit_transform(X_train)\n",
    "X_test_scaled = scaler.transform(X_test)\n",
    "\n",
    "# Initializing and training the SVM model\n",
    "svm_model = SVC(kernel='linear', random_state=42)\n",
    "svm_model.fit(X_train_scaled, y_train)\n",
    "\n",
    "# Making predictions on the testing data\n",
    "y_pred = svm_model.predict(X_test_scaled)\n",
    "\n",
    "# Evaluating the model\n",
    "accuracy = accuracy_score(y_test, y_pred)\n",
    "print(\"Accuracy:\", accuracy)\n"
   ]
  },
  {
   "cell_type": "code",
   "execution_count": 54,
   "id": "08008705",
   "metadata": {},
   "outputs": [
    {
     "data": {
      "image/png": "[encoded data removed]",
      "text/plain": [
       "<Figure size 640x480 with 2 Axes>"
      ]
     },
     "metadata": {},
     "output_type": "display_data"
    }
   ],
   "source": [
    "# Function to plot confusion matrix\n",
    "def plot_confusion_matrix(y_true, y_pred):\n",
    "    cm = confusion_matrix(y_true, y_pred)\n",
    "    sns.heatmap(cm, annot=True, cmap='Reds', fmt='g')\n",
    "    plt.xlabel('Predicted labels')\n",
    "    plt.ylabel('True labels')\n",
    "    plt.title('Confusion Matrix')\n",
    "    plt.show()\n",
    "\n",
    "plot_confusion_matrix(y_test, y_pred)"
   ]
  },
  {
   "cell_type": "markdown",
   "id": "1a99df4c",
   "metadata": {},
   "source": [
    "From the results I've gained to both I can see that eating disorders are, globally, also more prominent in women."
   ]
  }
 ],
 "metadata": {
  "kernelspec": {
   "display_name": "Python 3 (ipykernel)",
   "language": "python",
   "name": "python3"
  },
  "language_info": {
   "codemirror_mode": {
    "name": "ipython",
    "version": 3
   },
   "file_extension": ".py",
   "mimetype": "text/x-python",
   "name": "python",
   "nbconvert_exporter": "python",
   "pygments_lexer": "ipython3",
   "version": "3.11.4"
  }
 },
 "nbformat": 4,
 "nbformat_minor": 5
}
